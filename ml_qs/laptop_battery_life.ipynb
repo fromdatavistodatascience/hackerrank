{
 "cells": [
  {
   "cell_type": "code",
   "execution_count": 18,
   "metadata": {},
   "outputs": [],
   "source": [
    "import requests\n",
    "import re\n",
    "import numpy as np\n",
    "import matplotlib.pyplot as plt"
   ]
  },
  {
   "cell_type": "code",
   "execution_count": 2,
   "metadata": {
    "scrolled": true
   },
   "outputs": [],
   "source": [
    "link = \"https://s3.amazonaws.com/hr-testcases/399/assets/trainingdata.txt\"\n",
    "f = requests.get(link)\n",
    "data = f.text\n",
    "x_and_y = data.split()"
   ]
  },
  {
   "cell_type": "code",
   "execution_count": 33,
   "metadata": {},
   "outputs": [
    {
     "name": "stdout",
     "output_type": "stream",
     "text": [
      "1.5\n",
      "1.50\n"
     ]
    }
   ],
   "source": [
    "# Enter your code here. Read input from STDIN. Print output to STDOUT\n",
    "inp = input()\n",
    "fid = open(\"trainingdata.txt\", \"r\")\n",
    "\n",
    "train = [ ]\n",
    "vals = [ ]\n",
    "for line in fid:\n",
    "    temp = line.rstrip().split(',')\n",
    "    if float(temp[0]) < 4.0:\n",
    "        train.append(float(temp[0]))\n",
    "        vals.append(float(temp[1]))\n",
    "num = 0\n",
    "den = 0\n",
    "for i in range(len(train)):\n",
    "    num = num + train[i]*train[i]\n",
    "for i in range(len(train)):\n",
    "    den = den + train[i]*vals[i]\n",
    "if float(inp) < 4.0:   \n",
    "    out = float(inp) * den / num\n",
    "else:\n",
    "    out = 8.00\n",
    "print(\"%.2f\" % out)"
   ]
  },
  {
   "cell_type": "code",
   "execution_count": null,
   "metadata": {},
   "outputs": [],
   "source": []
  }
 ],
 "metadata": {
  "kernelspec": {
   "display_name": "Python 3",
   "language": "python",
   "name": "python3"
  },
  "language_info": {
   "codemirror_mode": {
    "name": "ipython",
    "version": 3
   },
   "file_extension": ".py",
   "mimetype": "text/x-python",
   "name": "python",
   "nbconvert_exporter": "python",
   "pygments_lexer": "ipython3",
   "version": "3.6.9"
  }
 },
 "nbformat": 4,
 "nbformat_minor": 2
}
