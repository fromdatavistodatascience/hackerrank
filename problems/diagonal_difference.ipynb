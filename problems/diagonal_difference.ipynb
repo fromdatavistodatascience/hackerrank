{
 "cells": [
  {
   "cell_type": "markdown",
   "metadata": {},
   "source": [
    "# Answer to the diagonal difference problem"
   ]
  },
  {
   "cell_type": "code",
   "execution_count": null,
   "metadata": {},
   "outputs": [],
   "source": [
    "import numpy as np\n",
    "import diagonal_difference as f"
   ]
  },
  {
   "cell_type": "code",
   "execution_count": null,
   "metadata": {},
   "outputs": [],
   "source": [
    "matrix = np.array(([11, 2, 4],[4, 5, 6], [10, 8, -12]))"
   ]
  },
  {
   "cell_type": "code",
   "execution_count": null,
   "metadata": {},
   "outputs": [],
   "source": [
    "matrix"
   ]
  },
  {
   "cell_type": "code",
   "execution_count": null,
   "metadata": {},
   "outputs": [],
   "source": [
    "def diagonalDifference(arr):\n",
    "    \"Function that calculates the diagonal difference of a square matrix\"\n",
    "    rows = len(arr)\n",
    "    cols = rows #square matrix\n",
    "    arr_reversed = [vals for vals in reversed(arr)]\n",
    "    l_to_r = 0\n",
    "    r_to_l = 0\n",
    "    for i in range(rows):\n",
    "        for j in range(cols):\n",
    "            if i == j:\n",
    "                l_to_r += arr[i][j]\n",
    "                r_to_l += arr_reversed[i][j]\n",
    "            else:\n",
    "                continue    \n",
    "    diagonal_diff = abs(l_to_r - r_to_l)\n",
    "    return diagonal_diff"
   ]
  },
  {
   "cell_type": "code",
   "execution_count": null,
   "metadata": {},
   "outputs": [],
   "source": [
    "print(f.diagonalDifference(matrix))"
   ]
  }
 ],
 "metadata": {
  "kernelspec": {
   "display_name": "Python 3",
   "language": "python",
   "name": "python3"
  },
  "language_info": {
   "codemirror_mode": {
    "name": "ipython",
    "version": 3
   },
   "file_extension": ".py",
   "mimetype": "text/x-python",
   "name": "python",
   "nbconvert_exporter": "python",
   "pygments_lexer": "ipython3",
   "version": "3.6.9"
  }
 },
 "nbformat": 4,
 "nbformat_minor": 2
}
